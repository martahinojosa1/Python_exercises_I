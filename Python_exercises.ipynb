{
 "cells": [
  {
   "cell_type": "markdown",
   "metadata": {},
   "source": [
    "# PYTHON COURSE EXERCISES"
   ]
  },
  {
   "cell_type": "markdown",
   "metadata": {},
   "source": [
    "## 1. Miscelánea"
   ]
  },
  {
   "cell_type": "markdown",
   "metadata": {},
   "source": [
    "**Calcular 7 elevado a 4**"
   ]
  },
  {
   "cell_type": "code",
   "execution_count": 1,
   "metadata": {},
   "outputs": [
    {
     "data": {
      "text/plain": [
       "2401"
      ]
     },
     "execution_count": 1,
     "metadata": {},
     "output_type": "execute_result"
    }
   ],
   "source": [
    "7**4"
   ]
  },
  {
   "cell_type": "markdown",
   "metadata": {},
   "source": [
    "**Dividir el siguiente string en una lista**"
   ]
  },
  {
   "cell_type": "code",
   "execution_count": 2,
   "metadata": {},
   "outputs": [
    {
     "data": {
      "text/plain": [
       "['Hi', 'there,', 'Sam!']"
      ]
     },
     "execution_count": 2,
     "metadata": {},
     "output_type": "execute_result"
    }
   ],
   "source": [
    "s = 'Hi there, Sam!'\n",
    "s.split()\n"
   ]
  },
  {
   "cell_type": "markdown",
   "metadata": {},
   "source": [
    "**Dadas las variables**\n",
    "\n",
    "    planet = \"Earth\"\n",
    "    diameter = 12742\n",
    "**use el método .format() para imprimir el siguiente string:**\n",
    "```python\n",
    "'The diameter of Earth is 12742 kilometers.'\n",
    "```"
   ]
  },
  {
   "cell_type": "code",
   "execution_count": 9,
   "metadata": {},
   "outputs": [
    {
     "name": "stdout",
     "output_type": "stream",
     "text": [
      "The diameter of Earth is 12742 kilometers.\n"
     ]
    }
   ],
   "source": [
    "planet = \"Earth\"\n",
    "diameter = 12742\n",
    "\n",
    "print(\"The diameter of {} is {} kilometers.\".format(planet,diameter))\n"
   ]
  },
  {
   "cell_type": "markdown",
   "metadata": {},
   "source": [
    "**Dada la siguiente lista concatenada, obtenga de la misma el string 'hello':**\n",
    "\n",
    "```python\n",
    "    lst = [1,2,[3,4],[5,[100,200,['hello']],23,11],1,7]\n",
    "```"
   ]
  },
  {
   "cell_type": "code",
   "execution_count": 11,
   "metadata": {},
   "outputs": [
    {
     "name": "stdout",
     "output_type": "stream",
     "text": [
      "hello\n"
     ]
    }
   ],
   "source": [
    "'''\n",
    "Lista desglosada por elementos (resumen):\n",
    "    [1,\n",
    "    2,\n",
    "    [3,4],\n",
    "    [5, [100, 200, ['hello']], 23, 11],\n",
    "    1,\n",
    "    7]\n",
    "'''\n",
    "lst = [1,2,[3,4],[5,[100,200,['hello']],23,11],1,7]\n",
    "\n",
    "print(lst[3][1][2][0]) \n"
   ]
  },
  {
   "cell_type": "markdown",
   "metadata": {},
   "source": [
    "**Dado este diccionario concatenado:**\n",
    "\n",
    "```python\n",
    "    d = {'k1':[1,2,3,{'tricky':['oh','man','inception',{'target':[1,2,3,'hello']}]}]}\n",
    "```\n",
    "**obtenga el string 'hello'.**"
   ]
  },
  {
   "cell_type": "code",
   "execution_count": 21,
   "metadata": {},
   "outputs": [
    {
     "name": "stdout",
     "output_type": "stream",
     "text": [
      "hello\n"
     ]
    }
   ],
   "source": [
    "'''\n",
    "Diccionario anidado: \n",
    "    {key:[lista{diccionario[lista{diccionario[lista]}]}]\n",
    "    {'k1': [1,2,3,{'tricky':['oh','man','inception',{'target':[1,2,3,'hello']}]}]}\n",
    "\n",
    "Cómo resolver:\n",
    "    - Para acceder a cada value escribo su respectiva key, teniendo en cuenta la estructura (key:value) de los diccionarios.\n",
    "    - Para acceder al elemento de cada lista, pongo su índice.\n",
    "        \n",
    "'''\n",
    "\n",
    "d = {'k1':[1,2,3,{'tricky':['oh','man','inception',{'target':[1,2,3,'hello']}]}]}\n",
    "\n",
    "print(d['k1'][3]['tricky'][3]['target'][3])"
   ]
  },
  {
   "cell_type": "markdown",
   "metadata": {},
   "source": [
    "**Implemente una función llamada domainGet que obtenga el dominio del email de un usuario. Por ejemplo, para el correo**\n",
    "```python\n",
    "    user@domain.com\n",
    "```\n",
    "**se desprendería 'domain.com'. Compruebe el resultado con este propio email.**"
   ]
  },
  {
   "cell_type": "code",
   "execution_count": 4,
   "metadata": {},
   "outputs": [
    {
     "name": "stdout",
     "output_type": "stream",
     "text": [
      "domain.com\n"
     ]
    }
   ],
   "source": [
    "'''\n",
    "Crear variable email.\n",
    "Crear variable 'dominio' y separar 'email' con split('@').\n",
    "Crear función tras comprobación.\n",
    "Comprobar con el email user@domain.com.\n",
    "'''\n",
    "\n",
    "def domainGet(email):\n",
    "    dominio = email.split('@')\n",
    "    return dominio[1]\n",
    "\n",
    "email = 'user@domain.com'\n",
    "print(domainGet(email))\n",
    "    "
   ]
  },
  {
   "cell_type": "markdown",
   "metadata": {},
   "source": [
    "**Implemente una función llamada findDog, que tenga como entrada un string, que devuelva el valor True si ese string contiene la palabra 'dog'. Tenga en cuenta las posibles mayúsculas, y compruebe su función con el string 'Is there a dog here?'.**"
   ]
  },
  {
   "cell_type": "code",
   "execution_count": 56,
   "metadata": {},
   "outputs": [
    {
     "name": "stdout",
     "output_type": "stream",
     "text": [
      "True\n"
     ]
    }
   ],
   "source": [
    "'''\n",
    "Esta función comprueba que la palabra 'dog' se encuentra dentro del string. Al utilizar 'in' el resultado es booleano, ya que este operador se utiliza para verificar\n",
    "'''\n",
    "def findDog(string):\n",
    "    string = string.lower()  \n",
    "    return 'dog' in string \n",
    "\n",
    "string = 'Is there a dog here?'\n",
    "resultado = findDog(string)\n",
    "print(resultado)  \n"
   ]
  },
  {
   "cell_type": "markdown",
   "metadata": {},
   "source": [
    "**Implemente una función similar a la del ejercicio anterior, pero que esta vez cuente el número de apariciones del string 'dog' en un cierto input. Compruebe sus resultados con el string:**\n",
    "\n",
    "```python\n",
    "'This dog runs faster than the other dog dude!'\n",
    "```"
   ]
  },
  {
   "cell_type": "code",
   "execution_count": 7,
   "metadata": {},
   "outputs": [
    {
     "name": "stdout",
     "output_type": "stream",
     "text": [
      "2\n"
     ]
    }
   ],
   "source": [
    "'''\n",
    "Convertir cadena a minúsculas y dividirla en una lista\n",
    "Contar en la lista las veces que aparece 'dog'\n",
    "\n",
    "'''\n",
    "string = 'This dog runs faster than the other dog dude!'\n",
    "string = string.lower().split()\n",
    "dogs_count = string.count('dog')\n",
    "\n",
    "print(dogs_count)\n"
   ]
  },
  {
   "cell_type": "markdown",
   "metadata": {},
   "source": [
    "**Use funciones lambda y la función .filter() para filtrar palabras de una lista que no empiecen con la letra 's'. Por ejemplo,**\n",
    "```python\n",
    "seq = ['soup','dog','salad','cat','great']\n",
    "```\n",
    "\n",
    "**debería ser filtrado para obtener:**\n",
    "```python\n",
    "seq = ['soup','salad']\n",
    "```"
   ]
  },
  {
   "cell_type": "code",
   "execution_count": 8,
   "metadata": {},
   "outputs": [
    {
     "name": "stdout",
     "output_type": "stream",
     "text": [
      "['soup', 'salad']\n"
     ]
    }
   ],
   "source": [
    "seq = ['soup','dog','salad','cat','great']\n",
    "\n",
    "resultado = list(filter(lambda word: word[0].lower().startswith('s'), seq))\n",
    "print(resultado)"
   ]
  },
  {
   "cell_type": "markdown",
   "metadata": {},
   "source": [
    "## 2. Métodos (I)\n",
    "Un conductor va a una velocidad demasiado rápida, y un agente le detiene. Escribe una función con tres posibles resultados, *no ticket*, *small ticket* o *big ticket*, y que devuelva lo siguiente:\n",
    "\n",
    "*  Si la velocidad es de 60 o menos, el resultado debe ser *no ticket*.\n",
    "*  Si la velocidad está entre 61 y 80 (inclusive), el resultado debe ser *small ticket*.\n",
    "*  Si la velocidad es superior a 80, el resultado debe ser *big ticket*.\n",
    "*  Si es tu cumpleaños, puedes ir a la velocidad que quieras."
   ]
  },
  {
   "cell_type": "code",
   "execution_count": 13,
   "metadata": {},
   "outputs": [
    {
     "name": "stdout",
     "output_type": "stream",
     "text": [
      "Resultado: no ticket\n"
     ]
    }
   ],
   "source": [
    "def ticket(speed, is_birthday):\n",
    "    if is_birthday or speed <= 60:  \n",
    "        return \"no ticket\"\n",
    "    elif speed <= 60:\n",
    "        return \"no ticket\"\n",
    "    elif 61 <= speed <= 80:\n",
    "        return \"small ticket\"\n",
    "    else:\n",
    "        return \"big ticket\"\n",
    "\n",
    "# Ejemplo de uso:\n",
    "velocidad = 90\n",
    "cumpleaños = True\n",
    "\n",
    "resultado = ticket(velocidad, cumpleaños)\n",
    "print(\"Resultado:\", resultado)\n",
    "    "
   ]
  }
 ],
 "metadata": {
  "kernelspec": {
   "display_name": "Python 3",
   "language": "python",
   "name": "python3"
  },
  "language_info": {
   "codemirror_mode": {
    "name": "ipython",
    "version": 3
   },
   "file_extension": ".py",
   "mimetype": "text/x-python",
   "name": "python",
   "nbconvert_exporter": "python",
   "pygments_lexer": "ipython3",
   "version": "3.10.10"
  }
 },
 "nbformat": 4,
 "nbformat_minor": 2
}
