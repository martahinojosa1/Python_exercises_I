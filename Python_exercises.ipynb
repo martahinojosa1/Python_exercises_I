{
 "cells": [
  {
   "cell_type": "markdown",
   "metadata": {},
   "source": [
    "# PYTHON COURSE EXERCISES"
   ]
  },
  {
   "cell_type": "markdown",
   "metadata": {},
   "source": [
    "## 1. Miscelánea"
   ]
  },
  {
   "cell_type": "markdown",
   "metadata": {},
   "source": [
    "**Calcular 7 elevado a 4**"
   ]
  },
  {
   "cell_type": "code",
   "execution_count": 1,
   "metadata": {},
   "outputs": [
    {
     "data": {
      "text/plain": [
       "2401"
      ]
     },
     "execution_count": 1,
     "metadata": {},
     "output_type": "execute_result"
    }
   ],
   "source": [
    "7**4"
   ]
  },
  {
   "cell_type": "markdown",
   "metadata": {},
   "source": [
    "**Dividir el siguiente string en una lista**"
   ]
  },
  {
   "cell_type": "code",
   "execution_count": 2,
   "metadata": {},
   "outputs": [
    {
     "data": {
      "text/plain": [
       "['Hi', 'there,', 'Sam!']"
      ]
     },
     "execution_count": 2,
     "metadata": {},
     "output_type": "execute_result"
    }
   ],
   "source": [
    "s = 'Hi there, Sam!'\n",
    "s.split()\n"
   ]
  },
  {
   "cell_type": "markdown",
   "metadata": {},
   "source": [
    "**Dadas las variables**\n",
    "\n",
    "    planet = \"Earth\"\n",
    "    diameter = 12742\n",
    "**use el método .format() para imprimir el siguiente string:**\n",
    "```python\n",
    "'The diameter of Earth is 12742 kilometers.'\n",
    "```"
   ]
  },
  {
   "cell_type": "code",
   "execution_count": 9,
   "metadata": {},
   "outputs": [
    {
     "name": "stdout",
     "output_type": "stream",
     "text": [
      "The diameter of Earth is 12742 kilometers.\n"
     ]
    }
   ],
   "source": [
    "planet = \"Earth\"\n",
    "diameter = 12742\n",
    "\n",
    "print(\"The diameter of {} is {} kilometers.\".format(planet,diameter))\n"
   ]
  },
  {
   "cell_type": "markdown",
   "metadata": {},
   "source": [
    "**Dada la siguiente lista concatenada, obtenga de la misma el string 'hello':**\n",
    "\n",
    "```python\n",
    "    lst = [1,2,[3,4],[5,[100,200,['hello']],23,11],1,7]\n",
    "```"
   ]
  },
  {
   "cell_type": "code",
   "execution_count": 11,
   "metadata": {},
   "outputs": [
    {
     "name": "stdout",
     "output_type": "stream",
     "text": [
      "hello\n"
     ]
    }
   ],
   "source": [
    "'''\n",
    "El primer elemento es 1\n",
    "El segundo elemento es 2\n",
    "El tercer elemento es [3,4], que es otra lista que contiene 3 y 4\n",
    "El cuarto elemento es [5, [100, 200, ['hello']], 23, 11], que a su vez:\n",
    "    - Primer elemento: 5\n",
    "    - Segundo elemento: [100, 200, ['hello']], que es otra lista con 100, 200, \"hello\"\n",
    "    - Tercer elemento: 23\n",
    "    - Cuarto elemento: 11\n",
    "El quinto elemento es 1\n",
    "El sexto elemento es 7\n",
    "\n",
    "Lista desglosada por elementos (resumen):\n",
    "    [1,\n",
    "    2,\n",
    "    [3,4],\n",
    "    [5, [100, 200, ['hello']], 23, 11],\n",
    "    1,\n",
    "    7]\n",
    "'''\n",
    "lst = [1,2,[3,4],[5,[100,200,['hello']],23,11],1,7]\n",
    "\n",
    "print(lst[3][1][2][0]) \n"
   ]
  },
  {
   "cell_type": "markdown",
   "metadata": {},
   "source": [
    "**Dado este diccionario concatenado:**\n",
    "\n",
    "```python\n",
    "    d = {'k1':[1,2,3,{'tricky':['oh','man','inception',{'target':[1,2,3,'hello']}]}]}\n",
    "```\n",
    "**obtenga el string 'hello'.**"
   ]
  },
  {
   "cell_type": "code",
   "execution_count": 21,
   "metadata": {},
   "outputs": [
    {
     "name": "stdout",
     "output_type": "stream",
     "text": [
      "hello\n"
     ]
    }
   ],
   "source": [
    "'''\n",
    "Diccionario anidado: \n",
    "    {key:[lista{diccionario[lista{diccionario[lista]}]}]\n",
    "    {'k1': [1,2,3,{'tricky':['oh','man','inception',{'target':[1,2,3,'hello']}]}]}\n",
    "\n",
    "Cómo resolver:\n",
    "    - Para acceder a cada value escribo su respectiva key, teniendo en cuenta la estructura (key:value) de los diccionarios.\n",
    "    - Para acceder al elemento de cada lista, pongo su índice.\n",
    "        \n",
    "'''\n",
    "\n",
    "d = {'k1':[1,2,3,{'tricky':['oh','man','inception',{'target':[1,2,3,'hello']}]}]}\n",
    "\n",
    "print(d['k1'][3]['tricky'][3]['target'][3])"
   ]
  },
  {
   "cell_type": "markdown",
   "metadata": {},
   "source": [
    "**Implemente una función llamada domainGet que obtenga el dominio del email de un usuario. Por ejemplo, para el correo**\n",
    "```python\n",
    "    user@domain.com\n",
    "```\n",
    "**se desprendería 'domain.com'. Compruebe el resultado con este propio email.**"
   ]
  },
  {
   "cell_type": "code",
   "execution_count": 35,
   "metadata": {},
   "outputs": [
    {
     "name": "stdout",
     "output_type": "stream",
     "text": [
      "user\n"
     ]
    }
   ],
   "source": [
    "'''\n",
    "Crear variable email.\n",
    "Crear variable 'dominio' y separar 'email' con split('@').\n",
    "Crear función tras comprobación.\n",
    "Comprobar con el email user@domain.com.\n",
    "'''\n",
    "\n",
    "def domainGet(email):\n",
    "    dominio = email.split('@')\n",
    "    return dominio[0]\n",
    "\n",
    "email = 'user@domain.com'\n",
    "print(domainGet(email))\n",
    "    "
   ]
  },
  {
   "cell_type": "markdown",
   "metadata": {},
   "source": [
    "**Implemente una función llamada findDog, que tenga como entrada un string, que devuelva el valor True si ese string contiene la palabra 'dog'. Tenga en cuenta las posibles mayúsculas, y compruebe su función con el string 'Is there a dog here?'.**"
   ]
  },
  {
   "cell_type": "code",
   "execution_count": 56,
   "metadata": {},
   "outputs": [
    {
     "name": "stdout",
     "output_type": "stream",
     "text": [
      "True\n"
     ]
    }
   ],
   "source": [
    "'''\n",
    "Esta función comprueba que la palabra 'dog' se encuentra dentro del string. Al utilizar 'in' el resultado es booleano, ya que este operador se utiliza para verificar\n",
    "'''\n",
    "def findDog(string):\n",
    "    string = string.lower()  \n",
    "    return 'dog' in string \n",
    "\n",
    "string = 'Is there a dog here?'\n",
    "resultado = findDog(string)\n",
    "print(resultado)  \n"
   ]
  },
  {
   "cell_type": "markdown",
   "metadata": {},
   "source": [
    "**Implemente una función similar a la del ejercicio anterior, pero que esta vez cuente el número de apariciones del string 'dog' en un cierto input. Compruebe sus resultados con el string:**\n",
    "\n",
    "```python\n",
    "'This dog runs faster than the other dog dude!'\n",
    "```"
   ]
  },
  {
   "cell_type": "code",
   "execution_count": null,
   "metadata": {},
   "outputs": [],
   "source": [
    "\n",
    "\n",
    "\n",
    "string = 'This dog runs faster than the other dog dude!'"
   ]
  },
  {
   "cell_type": "markdown",
   "metadata": {},
   "source": [
    "**Use funciones lambda y la función .filter() para filtrar palabras de una lista que no empiecen con la letra 's'. Por ejemplo,**\n",
    "```python\n",
    "seq = ['soup','dog','salad','cat','great']\n",
    "```\n",
    "\n",
    "**debería ser filtrado para obtener:**\n",
    "```python\n",
    "seq = ['soup','salad']\n",
    "```"
   ]
  },
  {
   "cell_type": "code",
   "execution_count": 47,
   "metadata": {},
   "outputs": [
    {
     "name": "stdout",
     "output_type": "stream",
     "text": [
      "['soup', 'salad']\n"
     ]
    }
   ],
   "source": [
    "seq = ['soup','dog','salad','cat','great']\n",
    "\n",
    "resultado = list(filter(lambda word: word.startswith('s'),seq))\n",
    "print(resultado)"
   ]
  }
 ],
 "metadata": {
  "kernelspec": {
   "display_name": "Python 3",
   "language": "python",
   "name": "python3"
  },
  "language_info": {
   "codemirror_mode": {
    "name": "ipython",
    "version": 3
   },
   "file_extension": ".py",
   "mimetype": "text/x-python",
   "name": "python",
   "nbconvert_exporter": "python",
   "pygments_lexer": "ipython3",
   "version": "3.10.10"
  }
 },
 "nbformat": 4,
 "nbformat_minor": 2
}
